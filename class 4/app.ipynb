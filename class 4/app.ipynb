{
 "cells": [
  {
   "cell_type": "markdown",
   "metadata": {},
   "source": [
    "# List\n",
    "\n",
    "* Dynamic length\n",
    "* Hetrogenous data types (Multiple data types) \n",
    "* indexing \n",
    "*          * positive indext start from 0 to n-1\n",
    "*          * negative index starts from -1 to length\n",
    "* Slicing\n",
    "*          * variable: name[start:end:step]\n",
    "*          * start : int = include data \n",
    "*          * end   : int = exclude data\n",
    "*          * step  : int = skip some elements/sequence"
   ]
  },
  {
   "cell_type": "code",
   "execution_count": 2,
   "metadata": {},
   "outputs": [
    {
     "name": "stdout",
     "output_type": "stream",
     "text": [
      "sir Qasim\n",
      "sir Qasim\n"
     ]
    }
   ],
   "source": [
    "#left to right itration is positive indexing\n",
    "# ->          0          1           2\n",
    "names = ['sir Qasim','sir Zia','sir Hamzah']\n",
    "#            -3         -2            -1\n",
    "#right to left itration is negative indexing\n",
    "\n",
    "print(names[0]) # sir Qasim\n",
    "print(names[-3]) # sir Qasim\n"
   ]
  },
  {
   "cell_type": "code",
   "execution_count": 3,
   "metadata": {},
   "outputs": [
    {
     "name": "stdout",
     "output_type": "stream",
     "text": [
      "sir Zia\n"
     ]
    }
   ],
   "source": [
    "from typing import Any\n",
    "# ->                    0           1          2\n",
    "names: list[Any] = ['sir Qasim','sir Zia','sir Hamzah']\n",
    "# <-                    -3         -2          -1\n",
    "print(names[-2]) # sir Zia"
   ]
  },
  {
   "cell_type": "code",
   "execution_count": 6,
   "metadata": {},
   "outputs": [
    {
     "name": "stdout",
     "output_type": "stream",
     "text": [
      "<class 'list'>\n",
      "<class 'str'>\n",
      "Founder of PIAIC SIR ZIA\n"
     ]
    }
   ],
   "source": [
    "# -.                    0           1          2\n",
    "names: list[Any] = ['sir Qasim','sir Zia','sir Hamzah']\n",
    "# <-                    -3         -2          -1\n",
    "print(type(names))\n",
    "print(type(names[-2]))\n",
    "print(f'Founder of PIAIC {names[-2].upper()}')"
   ]
  },
  {
   "cell_type": "code",
   "execution_count": 7,
   "metadata": {},
   "outputs": [
    {
     "name": "stdout",
     "output_type": "stream",
     "text": [
      "['A', 'B', 'C', 'D', 'E', 'F', 'G', 'H', 'I', 'J', 'K', 'L', 'M', 'N', 'O', 'P', 'Q', 'R', 'S', 'T', 'U', 'V', 'W', 'X', 'Z']\n"
     ]
    }
   ],
   "source": [
    "# itration \n",
    "# itrative data always work on function type\n",
    "charactors: list[str] = list(\"ABCDEFGHIJKLMNOPQRSTUVWXZ\")\n",
    "print(charactors)"
   ]
  },
  {
   "cell_type": "code",
   "execution_count": 23,
   "metadata": {},
   "outputs": [
    {
     "name": "stdout",
     "output_type": "stream",
     "text": [
      "['A', 'B']\n",
      "['A', 'B']\n",
      "['A', 'B', 'C', 'D', 'E', 'F', 'G', 'H', 'I', 'J', 'K', 'L', 'M', 'N', 'O', 'P', 'Q', 'R', 'S', 'T', 'U', 'V', 'W', 'X', 'Z']\n",
      "['A']\n",
      "['A', 'B']\n",
      "['A', 'D', 'G', 'J', 'M', 'P', 'S', 'V', 'Z']\n",
      "['Z', 'X', 'W', 'V', 'U', 'T', 'S', 'R', 'Q', 'P', 'O', 'N', 'M', 'L', 'K', 'J', 'I', 'H', 'G', 'F', 'E', 'D', 'C', 'B', 'A']\n",
      "['Z', 'W', 'U', 'S', 'Q', 'O', 'M', 'K', 'I', 'G', 'E', 'C', 'A']\n",
      "['A']\n"
     ]
    }
   ],
   "source": [
    "# variable : name[start:end:step]\n",
    "charactors: list[str] = list(\"ABCDEFGHIJKLMNOPQRSTUVWXZ\")\n",
    "print(charactors[0:2]) # 0 = include : index 2-1 = 1\n",
    "# defualt slicing go from left to right\n",
    "# if you want to slice it from right to left use negative numbers\n",
    "# always slicing data comes in list type\n",
    "print(charactors[:2])\n",
    "print(charactors[ : : ]) # by defualt print all values, in this case assume itself thats why print all given values\n",
    "print(charactors[-26:-24]) # -26 = include : index -24-1 = -25\n",
    "print(charactors[0:2:1])\n",
    "print(charactors[::3]) # every charactor come from sequence after 3rd step\n",
    "print(charactors[::-1]) # reverse the order of charachters\n",
    "print(charactors[::-2]) # every second character is selected in reversed order"
   ]
  },
  {
   "cell_type": "code",
   "execution_count": 24,
   "metadata": {},
   "outputs": [
    {
     "name": "stdout",
     "output_type": "stream",
     "text": [
      "['D', 'G', 'J', 'M', 'P']\n"
     ]
    }
   ],
   "source": [
    "#                    0    1    2    3    4    5    6    7    8\n",
    "names: list[str] = ['A', 'D', 'G', 'J', 'M', 'P', 'S', 'V', 'Z']\n",
    "#                   -9    -8   -7   -6   -5  -4   -3   -2   -1\n",
    "print(names[1:-3])"
   ]
  },
  {
   "cell_type": "code",
   "execution_count": 26,
   "metadata": {},
   "outputs": [
    {
     "name": "stdout",
     "output_type": "stream",
     "text": [
      "[]\n"
     ]
    }
   ],
   "source": [
    "#                    0    1    2    3    4    5    6    7    8\n",
    "names: list[str] = ['A', 'D', 'G', 'J', 'M', 'P', 'S', 'V', 'Z']\n",
    "#                   -9    -8   -7   -6   -5  -4   -3   -2   -1\n",
    "# itration slicing  \n",
    "# -> positive index\n",
    "# <- negative index\n",
    "print(names[-1:-5])"
   ]
  },
  {
   "cell_type": "code",
   "execution_count": 27,
   "metadata": {},
   "outputs": [
    {
     "name": "stdout",
     "output_type": "stream",
     "text": [
      "['V', 'S', 'P']\n"
     ]
    }
   ],
   "source": [
    "#                    0    1    2    3    4    5    6    7    8\n",
    "names: list[str] = ['A', 'D', 'G', 'J', 'M', 'P', 'S', 'V', 'Z']\n",
    "#                   -9    -8   -7   -6   -5  -4   -3   -2   -1\n",
    "print(names[-2:-5:-1])"
   ]
  },
  {
   "cell_type": "markdown",
   "metadata": {},
   "source": [
    "# List Methods"
   ]
  },
  {
   "cell_type": "code",
   "execution_count": 30,
   "metadata": {},
   "outputs": [
    {
     "name": "stdout",
     "output_type": "stream",
     "text": [
      "['Sir Zia ', 'Sir Qasim', 'Sir Imran', 12, True]\n",
      "['Sir Zia ', 'Sir Qasim', 'Sir Imran', 'Sir Hamzah', True]\n"
     ]
    }
   ],
   "source": [
    "names: list[Any] = ['Sir Zia ','Sir Qasim','Sir Imran', 12, True]\n",
    "print(names)\n",
    "names[3] = 'Sir Hamzah' # mutable (editable)\n",
    "print(names)"
   ]
  },
  {
   "cell_type": "code",
   "execution_count": 31,
   "metadata": {},
   "outputs": [
    {
     "name": "stdout",
     "output_type": "stream",
     "text": [
      "['Sir Zia ', 'Sir Qasim', 'Sir Imran', True]\n"
     ]
    }
   ],
   "source": [
    "names: list[Any] = ['Sir Zia ','Sir Qasim','Sir Imran', 12, True]\n",
    "del names[3]\n",
    "print(names)"
   ]
  },
  {
   "cell_type": "code",
   "execution_count": 38,
   "metadata": {},
   "outputs": [
    {
     "name": "stdout",
     "output_type": "stream",
     "text": [
      "Pakistan\n"
     ]
    },
    {
     "data": {
      "text/plain": [
       "None"
      ]
     },
     "metadata": {},
     "output_type": "display_data"
    }
   ],
   "source": [
    "n: str = print('Pakistan')\n",
    "display(n) # this is none-return function"
   ]
  },
  {
   "cell_type": "code",
   "execution_count": 39,
   "metadata": {},
   "outputs": [
    {
     "data": {
      "text/plain": [
       "140704755510000"
      ]
     },
     "metadata": {},
     "output_type": "display_data"
    }
   ],
   "source": [
    "a: str = id(n) # return function\n",
    "display(a) "
   ]
  },
  {
   "cell_type": "markdown",
   "metadata": {},
   "source": [
    "# Help \n",
    "* help(object)\n",
    "* object?\n",
    "* object??\n",
    "* ?object\n",
    "* ??object\n"
   ]
  },
  {
   "cell_type": "code",
   "execution_count": 41,
   "metadata": {},
   "outputs": [
    {
     "name": "stdout",
     "output_type": "stream",
     "text": [
      "Type help() for interactive help, or help(object) for help about object.\n"
     ]
    },
    {
     "name": "stdout",
     "output_type": "stream",
     "text": [
      "\u001b[1;31mInit signature:\u001b[0m \u001b[0mobject\u001b[0m\u001b[1;33m(\u001b[0m\u001b[1;33m)\u001b[0m\u001b[1;33m\u001b[0m\u001b[1;33m\u001b[0m\u001b[0m\n",
      "\u001b[1;31mDocstring:\u001b[0m     \n",
      "The base class of the class hierarchy.\n",
      "\n",
      "When called, it accepts no arguments and returns a new featureless\n",
      "instance that has no instance attributes and cannot be given any.\n",
      "\u001b[1;31mType:\u001b[0m           type\n",
      "\u001b[1;31mSubclasses:\u001b[0m     type, async_generator, bytearray_iterator, bytearray, bytes_iterator, bytes, builtin_function_or_method, callable_iterator, PyCapsule, cell, ..."
     ]
    }
   ],
   "source": [
    "# help example \n",
    "print(help)\n",
    "object?"
   ]
  },
  {
   "cell_type": "markdown",
   "metadata": {},
   "source": [
    "# pop( ) method\n",
    "\n",
    "* The `pop()` function in Python is used to remove the last element from a list and return it."
   ]
  },
  {
   "cell_type": "code",
   "execution_count": 42,
   "metadata": {},
   "outputs": [
    {
     "name": "stdout",
     "output_type": "stream",
     "text": [
      "['Sir Zia ', 'Sir Qasim', 'Sir Imran', 12, True]\n",
      "True\n",
      "['Sir Zia ', 'Sir Qasim', 'Sir Imran', 12]\n"
     ]
    }
   ],
   "source": [
    "names: list[Any] = ['Sir Zia ','Sir Qasim','Sir Imran', 12, True]\n",
    "print(names)\n",
    "print(names.pop())\n",
    "print(names)"
   ]
  },
  {
   "cell_type": "markdown",
   "metadata": {},
   "source": [
    "# append( ) method in python\n",
    "\n",
    "* The append( ) method is used to add an item at the end of a list.\n",
    "\n"
   ]
  },
  {
   "cell_type": "code",
   "execution_count": 46,
   "metadata": {},
   "outputs": [
    {
     "name": "stdout",
     "output_type": "stream",
     "text": [
      "['sir Zia', 'sir Qasim']\n"
     ]
    }
   ],
   "source": [
    "names: str = []\n",
    "names.append('sir Zia')\n",
    "names.append('sir Qasim')\n",
    "print(names) "
   ]
  },
  {
   "cell_type": "markdown",
   "metadata": {},
   "source": [
    "# insert( ) method in Python \n",
    "\n",
    "* The insert() Method is a built-in string and list data type function in python. It allows you to add an element at any given position"
   ]
  },
  {
   "cell_type": "code",
   "execution_count": 47,
   "metadata": {},
   "outputs": [
    {
     "name": "stdout",
     "output_type": "stream",
     "text": [
      "['a', 'A', 'b', 'c', 'd']\n"
     ]
    }
   ],
   "source": [
    "names: str = ['a','b','c','d']\n",
    "names.insert(1,'A') # insert(index,value)\n",
    "print(names)"
   ]
  },
  {
   "cell_type": "markdown",
   "metadata": {},
   "source": [
    "# clear( ) method in Python\n",
    "\n",
    "* The clear() function is used to remove all the items from a list. It does not return any value, it simply removes all elements from the list"
   ]
  },
  {
   "cell_type": "code",
   "execution_count": 48,
   "metadata": {},
   "outputs": [
    {
     "name": "stdout",
     "output_type": "stream",
     "text": [
      "[]\n"
     ]
    }
   ],
   "source": [
    "names: str = ['Sir Zia ','Sir Qasim','Sir Imran', 12, True]\n",
    "names.clear()\n",
    "print(names)"
   ]
  },
  {
   "cell_type": "markdown",
   "metadata": {},
   "source": [
    "# copy( ) method in Python\n",
    "\n",
    "* The copy() method is used to create a new object which is a copy of the existing object. It returns a shallow copy of the original\n",
    "* The copy() method is a built-in function or method used to create a duplicate of an object. It copies the original object and returns it"
   ]
  },
  {
   "cell_type": "code",
   "execution_count": 54,
   "metadata": {},
   "outputs": [
    {
     "name": "stdout",
     "output_type": "stream",
     "text": [
      "['A', 'D', 'G', 'J', 'M', 'P', 'S', 'V', 'Z']\n",
      "['A', 'D', 'G', 'J', 'M', 'P', 'S', 'V', 'Z']\n",
      "['A', 'D', 'G', 'J', 'M', 'P', 'S', 'V', 'Z']\n",
      "['Pakistan', 'D', 'G', 'J', 'M', 'P', 'S', 'V', 'Z']\n"
     ]
    }
   ],
   "source": [
    "a: list[str] = ['A', 'D', 'G', 'J', 'M', 'P', 'S', 'V', 'Z']\n",
    "b = a.copy() # Deep copy\n",
    "print(a)\n",
    "print(b)\n",
    "b[0] = 'Pakistan'\n",
    "\n",
    "print(a)\n",
    "print(b)\n"
   ]
  },
  {
   "cell_type": "markdown",
   "metadata": {},
   "source": [
    "# count( ) method in Python\n",
    "\n",
    "The `count()` function is a built-in Python method that returns the number of occurrences of an element within a list. It takes one argument"
   ]
  },
  {
   "cell_type": "code",
   "execution_count": 62,
   "metadata": {},
   "outputs": [
    {
     "name": "stdout",
     "output_type": "stream",
     "text": [
      "2\n"
     ]
    }
   ],
   "source": [
    "names: list[str] = ['A', 'D', 'G', 'J', 'M', 'A', 'S', 'V', 'Z']\n",
    "\n",
    "print(names.count('A'))"
   ]
  },
  {
   "cell_type": "markdown",
   "metadata": {},
   "source": [
    "# extend( ) method in Python\n",
    "* The `extend()` function is a built-in Python method that allows you to add elements from an iterable (like list, string etc.)\n"
   ]
  },
  {
   "cell_type": "code",
   "execution_count": 69,
   "metadata": {},
   "outputs": [
    {
     "name": "stdout",
     "output_type": "stream",
     "text": [
      "['A', 'D', 'G', 'J', 'M', 'P', 'S', 'V', 'Z', 'Sir Zia', 'Sir Inam', 'Sir Qasim']\n"
     ]
    }
   ],
   "source": [
    "\n",
    "alpha: list[str] = ['A', 'D', 'G', 'J', 'M', 'P', 'S', 'V', 'Z']\n",
    "members: list[str] = ['Sir Zia','Sir Inam','Sir Qasim']\n",
    "# alpha.append(members) # add list as syntax \n",
    "alpha.extend(members) # add only list elements\n",
    "print(alpha)"
   ]
  },
  {
   "cell_type": "markdown",
   "metadata": {},
   "source": [
    "# remove( ) method in Python\n",
    "* The `remove()` function is a built-in function of Python. It removes the first occurrence of the specified value from the list and returns None"
   ]
  },
  {
   "cell_type": "code",
   "execution_count": 70,
   "metadata": {},
   "outputs": [
    {
     "name": "stdout",
     "output_type": "stream",
     "text": [
      "['D', 'G', 'J', 'M', 'P', 'S', 'V', 'Z']\n"
     ]
    }
   ],
   "source": [
    "#                    0    1    2    3    4    5    6    7    8\n",
    "names: list[str] = ['A', 'D', 'G', 'J', 'M', 'P', 'S', 'V', 'Z']\n",
    "#                   -9    -8   -7   -6   -5  -4   -3   -2   -1\n",
    "names.remove('A') # remove with text value\n",
    "print(names)"
   ]
  },
  {
   "cell_type": "markdown",
   "metadata": {},
   "source": [
    "# index( ) method in Python\n",
    "* The `index()` function is a built-in string and list method in Python. It returns the first occurrence of the specified value from the list"
   ]
  },
  {
   "cell_type": "code",
   "execution_count": 72,
   "metadata": {},
   "outputs": [
    {
     "data": {
      "text/plain": [
       "0"
      ]
     },
     "execution_count": 72,
     "metadata": {},
     "output_type": "execute_result"
    }
   ],
   "source": [
    "#                    0    1    2    3    4    5    6    7    8\n",
    "names: list[str] = ['A', 'D', 'G', 'J', 'M', 'P', 'S', 'V', 'Z']\n",
    "#                   -9    -8   -7   -6   -5  -4   -3   -2   -1\n",
    "names.index('A') # remove with text value\n"
   ]
  },
  {
   "cell_type": "markdown",
   "metadata": {},
   "source": [
    "# reverse( ) method in Python\n",
    "* The reverse() function is a built-in Python method that can be used on any iterable object. It reverses the order of elements in the list\n"
   ]
  },
  {
   "cell_type": "code",
   "execution_count": 73,
   "metadata": {},
   "outputs": [
    {
     "name": "stdout",
     "output_type": "stream",
     "text": [
      "['Z', 'V', 'S', 'P', 'M', 'J', 'G', 'D', 'A']\n"
     ]
    }
   ],
   "source": [
    "#                    0    1    2    3    4    5    6    7    8\n",
    "names: list[str] = ['A', 'D', 'G', 'J', 'M', 'P', 'S', 'V', 'Z']\n",
    "#                   -9    -8   -7   -6   -5  -4   -3   -2   -1\n",
    "names.reverse() # remove with text value\n",
    "print(names)"
   ]
  },
  {
   "cell_type": "markdown",
   "metadata": {},
   "source": [
    "# sort( ) method in Pyhon\n",
    "\n",
    "* The sort() function is used to sort the elements of a list.\n",
    "* It doesn't return anything but it sorts the original list.\n"
   ]
  },
  {
   "cell_type": "code",
   "execution_count": 75,
   "metadata": {},
   "outputs": [
    {
     "name": "stdout",
     "output_type": "stream",
     "text": [
      "['A', 'D', 'G', 'J', 'M', 'P', 'S', 'V', 'Z']\n"
     ]
    }
   ],
   "source": [
    "#                    0    1    2    3    4    5    6    7    8\n",
    "names: list[str] = ['Z', 'V', 'S', 'P', 'M', 'J', 'G', 'D', 'A']\n",
    "#                   -9    -8   -7   -6   -5  -4   -3   -2   -1\n",
    "names.sort() # remove with text value\n",
    "print(names)"
   ]
  }
 ],
 "metadata": {
  "kernelspec": {
   "display_name": "python12",
   "language": "python",
   "name": "python3"
  },
  "language_info": {
   "codemirror_mode": {
    "name": "ipython",
    "version": 3
   },
   "file_extension": ".py",
   "mimetype": "text/x-python",
   "name": "python",
   "nbconvert_exporter": "python",
   "pygments_lexer": "ipython3",
   "version": "3.11.5"
  }
 },
 "nbformat": 4,
 "nbformat_minor": 2
}
