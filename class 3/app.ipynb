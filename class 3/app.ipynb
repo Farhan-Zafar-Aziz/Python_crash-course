{
 "cells": [
  {
   "cell_type": "markdown",
   "metadata": {},
   "source": [
    "# Python divides the operators in the following groups:\n",
    "\n",
    "* Arithmetic operators\n",
    "* Assignment operators\n",
    "* Comparison operators\n",
    "* Logical operators\n",
    "* Identity operators\n",
    "* Membership operators\n",
    "* Bitwise operators\n"
   ]
  },
  {
   "cell_type": "markdown",
   "metadata": {},
   "source": [
    "# Arithmetic operators are used with numeric values to perform common mathematical operations:\n",
    "\n",
    "* Operator\t               Name\t                       Example                            \t\n",
    "*     +\t                 Addition\t                    x + y\t\n",
    "*     -\t                Subtraction                    \tx - y\t\n",
    "*     *\t                Multiplication                 \tx * y\t\n",
    "*    /\t                   Division\t                    x / y\t\n",
    "*    %\t                   Modulus                   \tx % y\t\n",
    "*    **\t               Exponentiation                 \tx ** y\t\n",
    "*    //\t               Floor division                   x // y"
   ]
  },
  {
   "cell_type": "code",
   "execution_count": 1,
   "metadata": {},
   "outputs": [
    {
     "name": "stdout",
     "output_type": "stream",
     "text": [
      "9\n",
      "5\n",
      "14\n",
      "3.5\n",
      "1\n",
      "49\n",
      "3\n"
     ]
    }
   ],
   "source": [
    "a: int = 7\n",
    "b: int = 2\n",
    "\n",
    "print(a + b)\n",
    "print(a - b)\n",
    "print(a * b)\n",
    "print(a / b)\n",
    "print(a % b)\n",
    "print(a ** b)\n",
    "print(a // b)"
   ]
  },
  {
   "cell_type": "markdown",
   "metadata": {},
   "source": [
    "# Assignment operators are used to assign values to variables:\n",
    "\n",
    "*  Operator\t           Example        \tSame As\n",
    "*   =                   x = 5       \tx = 5\t\n",
    "*  +=\t                x += 3      \tx = x + 3\t\n",
    "*  -=\t                x -= 3\t        x = x - 3\t\n",
    "*  *=\t                x *= 3\t        x = x * 3\t\n",
    "*  /=\t                x /= 3\t        x = x / 3\t\n",
    "*  %=\t                x %= 3\t        x = x % 3\t\n",
    "*  //=\t                x //= 3\t        x = x // 3\t\n",
    "*  **=\t                x **= 3\t        x = x ** 3\t\n",
    "*  &=\t                x &= 3\t        x = x & 3\t\n",
    "*  |=\t                x |= 3\t        x = x | 3\t\n",
    "*  ^=\t                x ^= 3\t        x = x ^ 3\t\n",
    "*  >>=\t                x >>= 3      \tx = x >> 3\t\n",
    "*  <<=\t                x <<= 3     \tx = x << 3"
   ]
  },
  {
   "cell_type": "code",
   "execution_count": 2,
   "metadata": {},
   "outputs": [
    {
     "name": "stdout",
     "output_type": "stream",
     "text": [
      "7\n"
     ]
    }
   ],
   "source": [
    "#assign \n",
    "a: int = 7\n",
    "print(a)"
   ]
  },
  {
   "cell_type": "code",
   "execution_count": 3,
   "metadata": {},
   "outputs": [
    {
     "name": "stdout",
     "output_type": "stream",
     "text": [
      "8\n",
      "20\n"
     ]
    }
   ],
   "source": [
    "# +=\n",
    "a: int = 8\n",
    "print(a)\n",
    "a += 12\n",
    "print(a)"
   ]
  },
  {
   "cell_type": "code",
   "execution_count": 4,
   "metadata": {},
   "outputs": [
    {
     "name": "stdout",
     "output_type": "stream",
     "text": [
      "10\n",
      "8\n"
     ]
    }
   ],
   "source": [
    "# -=\n",
    "a: int = 10\n",
    "print(a)\n",
    "a -= 2\n",
    "print(a)"
   ]
  },
  {
   "cell_type": "code",
   "execution_count": 5,
   "metadata": {},
   "outputs": [
    {
     "name": "stdout",
     "output_type": "stream",
     "text": [
      "2\n",
      "4\n"
     ]
    }
   ],
   "source": [
    "# *=\n",
    "a: int = 2 \n",
    "print(a)\n",
    "a *= 2 \n",
    "print(a)"
   ]
  },
  {
   "cell_type": "code",
   "execution_count": 6,
   "metadata": {},
   "outputs": [
    {
     "name": "stdout",
     "output_type": "stream",
     "text": [
      "10\n",
      "5.0\n"
     ]
    }
   ],
   "source": [
    "# /=\n",
    "a: int = 10\n",
    "print(a)\n",
    "a /= 2\n",
    "print(a)"
   ]
  },
  {
   "cell_type": "code",
   "execution_count": 7,
   "metadata": {},
   "outputs": [
    {
     "name": "stdout",
     "output_type": "stream",
     "text": [
      "11\n",
      "1\n"
     ]
    }
   ],
   "source": [
    "# %=\n",
    "a: int = 11\n",
    "print(a)\n",
    "a %= 2\n",
    "print(a)"
   ]
  },
  {
   "cell_type": "code",
   "execution_count": 8,
   "metadata": {},
   "outputs": [
    {
     "name": "stdout",
     "output_type": "stream",
     "text": [
      "15\n",
      "7\n"
     ]
    }
   ],
   "source": [
    "# //=\n",
    "a: int = 15\n",
    "print(a)\n",
    "a //= 2\n",
    "print(a)"
   ]
  },
  {
   "cell_type": "markdown",
   "metadata": {},
   "source": [
    "# Comparison operators are used to compare two values:\n",
    "\n",
    "*    Operator\t      Name\t                   Example\t\n",
    "*      ==\t         Equal\t                    x == y\t\n",
    "*      !=\t        Not equal\t                x != y\t\n",
    "*      > \t      Greater than    \t            x > y\t\n",
    "*      <\t       Less than\t                x < y\t\n",
    "*      >=\t  Greater than or equal to  \t    x >= y\t\n",
    "*      <=\t   Less than or equal to\t        x <= y"
   ]
  },
  {
   "cell_type": "code",
   "execution_count": 11,
   "metadata": {},
   "outputs": [
    {
     "name": "stdout",
     "output_type": "stream",
     "text": [
      "False\n",
      "True\n",
      "False\n"
     ]
    }
   ],
   "source": [
    "# == \n",
    "a: int = 7\n",
    "b: int = 10\n",
    "print(a == b)\n",
    "\n",
    "a: int = 7\n",
    "b: int = 7\n",
    "print(a == b)\n",
    "\n",
    "a: int = 7\n",
    "b: str = '7'\n",
    "print(a == b)"
   ]
  },
  {
   "cell_type": "code",
   "execution_count": 14,
   "metadata": {},
   "outputs": [
    {
     "name": "stdout",
     "output_type": "stream",
     "text": [
      "True\n",
      "False\n",
      "True\n"
     ]
    }
   ],
   "source": [
    "# !=\n",
    "a: int = 6\n",
    "b: int = 5\n",
    "print(a != b)\n",
    "\n",
    "a: int = 6\n",
    "b: int = 6\n",
    "print(a != b)\n",
    "\n",
    "a: int = 6\n",
    "b: str = '6'\n",
    "print(a != b)"
   ]
  },
  {
   "cell_type": "code",
   "execution_count": 18,
   "metadata": {},
   "outputs": [
    {
     "name": "stdout",
     "output_type": "stream",
     "text": [
      "True\n",
      "True\n"
     ]
    }
   ],
   "source": [
    "# <, >\n",
    "a: int = 6\n",
    "b: int = 5\n",
    "print(a > b)\n",
    "\n",
    "a: int = 5\n",
    "b: int = 6\n",
    "print(a < b)\n"
   ]
  },
  {
   "cell_type": "code",
   "execution_count": 22,
   "metadata": {},
   "outputs": [
    {
     "name": "stdout",
     "output_type": "stream",
     "text": [
      "True\n",
      "True\n",
      "False\n",
      "False\n"
     ]
    }
   ],
   "source": [
    "# >=, <=\n",
    "a: int = 5\n",
    "b: int = 10\n",
    "print(a <= b)\n",
    "\n",
    "a: int = 10\n",
    "b: int = 5\n",
    "print(a >= b)\n",
    "\n",
    "a: int = 5\n",
    "b: int = 10\n",
    "print(a >= b)\n",
    "\n",
    "a: int = 10\n",
    "b: int = 5\n",
    "print(a <= b)"
   ]
  },
  {
   "cell_type": "markdown",
   "metadata": {},
   "source": [
    "# ASCII Code\n",
    "\n",
    "* Z = 90\n",
    "\n",
    "* a = 97\n",
    "* z = 122 \n",
    "\n",
    "* 0 = 48 \n",
    "* 9 = 57"
   ]
  },
  {
   "cell_type": "code",
   "execution_count": 24,
   "metadata": {},
   "outputs": [
    {
     "name": "stdout",
     "output_type": "stream",
     "text": [
      "False\n",
      "True\n"
     ]
    }
   ],
   "source": [
    "a: str = 'A'\n",
    "b: str = 'B'\n",
    "print(a >= b)\n",
    "\n",
    "a: str = 'A'\n",
    "b: str = 'B'\n",
    "print(a <= b)"
   ]
  },
  {
   "cell_type": "code",
   "execution_count": 26,
   "metadata": {},
   "outputs": [
    {
     "data": {
      "text/plain": [
       "65"
      ]
     },
     "execution_count": 26,
     "metadata": {},
     "output_type": "execute_result"
    }
   ],
   "source": [
    "# ASCII Code conversion\n",
    "chr(65) # A\n",
    "\n",
    "ord('A') # 65"
   ]
  },
  {
   "cell_type": "markdown",
   "metadata": {},
   "source": [
    "# Logical operators are used to combine conditional statements:\n",
    "\n",
    "* Operator\t                   Description\t                                       Example\t\n",
    "* and \t        Returns True if both statements are true\t                   x < 5 and  x < 10\t\n",
    "* or\t     Returns True if one of the statements is true\t                     x < 5 or x < 4\t\n",
    "* not\t  Reverse the result, returns False if the result is true"
   ]
  },
  {
   "cell_type": "code",
   "execution_count": 36,
   "metadata": {},
   "outputs": [
    {
     "name": "stdout",
     "output_type": "stream",
     "text": [
      "True\n",
      "False\n",
      "True\n",
      "True\n"
     ]
    },
    {
     "data": {
      "text/plain": [
       "True"
      ]
     },
     "execution_count": 36,
     "metadata": {},
     "output_type": "execute_result"
    }
   ],
   "source": [
    "# and Laazmi \n",
    "# or optional\n",
    "# not invert comparison\n",
    "print(True and True and True)\n",
    "print(False and False and True)\n",
    "\n",
    "print(True or True or True)\n",
    "print(False or False or True)\n",
    "\n",
    "not True # False\n",
    "not False # True"
   ]
  },
  {
   "cell_type": "code",
   "execution_count": 37,
   "metadata": {},
   "outputs": [
    {
     "name": "stdout",
     "output_type": "stream",
     "text": [
      "False\n"
     ]
    }
   ],
   "source": [
    "name: str = 'Zia Khan'\n",
    "print(not name == 'Zia Khan')"
   ]
  },
  {
   "cell_type": "markdown",
   "metadata": {},
   "source": [
    "# Identity operators are used to compare the objects, not if they are equal, but if they are actually the same object, with the same memory location:\n",
    "\n",
    "* Operator\t Description\tExample\tTry it\n",
    "* is \tReturns True if both variables are the same object\tx is y\t\n",
    "* is not\tReturns True if both variables are not the same object\tx is not y"
   ]
  },
  {
   "cell_type": "code",
   "execution_count": null,
   "metadata": {},
   "outputs": [],
   "source": [
    "# is identity operator\n",
    "x: str = 'abc'\n",
    "z: str = 'abc'\n",
    "# value same h is liye back-end mn inka code same h is liye ans will be True \n",
    "# agr variable name same hota or value change hoti to  bhi ans will be True\n",
    "# agr name change hota or value bhi change hoti to ans will be False\n",
    "x is z # True due to same value\n",
    "\n",
    "a: str = 'ab'\n",
    "a: str = 'cb'\n",
    "a is a # True due to same variable name\n",
    "\n",
    "a: str = 'ab'\n",
    "b: str = 'cb'\n",
    "a is b # False due to different variable name and different value\n"
   ]
  },
  {
   "cell_type": "code",
   "execution_count": 69,
   "metadata": {},
   "outputs": [
    {
     "data": {
      "text/plain": [
       "False"
      ]
     },
     "execution_count": 69,
     "metadata": {},
     "output_type": "execute_result"
    }
   ],
   "source": [
    "names: list[str] = ['sir zia','sir hamza','sir imran']\n",
    "name: str = input('Enter your name')\n",
    "name in names \n",
    "name not in names # convert "
   ]
  },
  {
   "cell_type": "markdown",
   "metadata": {},
   "source": [
    "To solve the equation step by step, follow the order of operations (PEMDAS/BODMAS), which stands for Parentheses/Brackets, Exponents/Orders (i.e., powers and square roots, etc.), Multiplication and Division (left-to-right), and Addition and Subtraction (left-to-right).\n",
    "\n",
    "The given equation is:\n",
    "\n",
    "2 + 3 - 2 * 4/2 + 2\n",
    "\n",
    "First, perform the multiplication and division from left to right:\n",
    "\n",
    "2 + 3 - 2 * 4/2 + 2\n",
    "2 + 3 - 8/2 + 2\n",
    "2 + 3 - 4 + 2\n",
    "\n",
    "Next, perform the addition and subtraction from left to right:\n",
    "\n",
    "2 + 3 - 4 + 2\n",
    "5 - 4 + 2\n",
    "\n",
    "Continue with the addition and subtraction:\n",
    "\n",
    "5 - 4 + 2\n",
    "1 + 2\n",
    "\n",
    "Finally, perform the last addition:\n",
    "\n",
    "1 + 2\n",
    "3\n",
    "\n",
    "So, the solution to the equation 2 + 3 - 2 * 4/2 + 2 is 3."
   ]
  },
  {
   "cell_type": "code",
   "execution_count": 70,
   "metadata": {},
   "outputs": [
    {
     "name": "stdout",
     "output_type": "stream",
     "text": [
      "3.0\n"
     ]
    }
   ],
   "source": [
    "print(3 + 2 - 2 * 4/2 + 2)\n"
   ]
  }
 ],
 "metadata": {
  "kernelspec": {
   "display_name": "python12",
   "language": "python",
   "name": "python3"
  },
  "language_info": {
   "codemirror_mode": {
    "name": "ipython",
    "version": 3
   },
   "file_extension": ".py",
   "mimetype": "text/x-python",
   "name": "python",
   "nbconvert_exporter": "python",
   "pygments_lexer": "ipython3",
   "version": "3.11.5"
  }
 },
 "nbformat": 4,
 "nbformat_minor": 2
}
