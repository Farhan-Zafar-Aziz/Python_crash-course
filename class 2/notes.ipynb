{
 "cells": [
  {
   "cell_type": "markdown",
   "metadata": {},
   "source": [
    "#Chapter 1 \n",
    "#print helloworld"
   ]
  },
  {
   "cell_type": "code",
   "execution_count": 40,
   "metadata": {},
   "outputs": [
    {
     "name": "stdout",
     "output_type": "stream",
     "text": [
      "Hello World!\n"
     ]
    }
   ],
   "source": [
    "print(\"Hello World!\")"
   ]
  },
  {
   "cell_type": "markdown",
   "metadata": {},
   "source": [
    "#Chapter 2\n",
    "#Variables and Simple Data Types"
   ]
  },
  {
   "cell_type": "code",
   "execution_count": 41,
   "metadata": {},
   "outputs": [],
   "source": [
    "#Data Types: Python has several built-in data types, including:\n",
    "#Integers (int): Used to represent whole numbers. For example:\n",
    "age: int = 18\n",
    "\n",
    "#Floating-Point Numbers (float): Used to represent real numbers with a decimal point. For example:\n",
    "pi: float = 3.141592653589793\n",
    "\n",
    "#Boolean (bool): Represents either True or False. Typically used for conditional statements and logical operations. For example:\n",
    "is_student: bool = True\n",
    "\n",
    "#Lists (list): Ordered, mutable collections of items. Lists can contain elements of different data types. For example:\n",
    "fruits: list = [\"apples\",\"mangoes\",\"grapes\"]\n",
    "\n",
    "#Tuples (tuple): Ordered, immutable collections of items. Like lists, but their elements cannot be changed after creation. For example:\n",
    "my_tuple: tuple = (\"apple\", \"banana\", \"cherry\")\n",
    "\n",
    "#Strings (str): Used to represent text. Strings are enclosed in either single (') or double (\") quotes. For example:\n",
    "name: str = \"Quaid e Azam\"\n",
    "\n",
    "\n"
   ]
  },
  {
   "cell_type": "markdown",
   "metadata": {},
   "source": [
    "#String Data type in python"
   ]
  },
  {
   "cell_type": "code",
   "execution_count": 42,
   "metadata": {},
   "outputs": [
    {
     "name": "stdout",
     "output_type": "stream",
     "text": [
      "<class 'str'>\n",
      "Farhan Aziz\n"
     ]
    }
   ],
   "source": [
    "#boundries\n",
    "# 'string text', \"string text\", '''string text''', \"\"\"string text\"\"\"\n",
    "name: str = \"Farhan Aziz\"\n",
    "print(type(name))\n",
    "print(name)\n",
    "\n"
   ]
  },
  {
   "cell_type": "code",
   "execution_count": 43,
   "metadata": {},
   "outputs": [
    {
     "name": "stdout",
     "output_type": "stream",
     "text": [
      "Piaic \"student\" card\n",
      " father's Name\n",
      "piac 'student' card\n",
      " father's Name\n"
     ]
    }
   ],
   "source": [
    "#convert any special charactor into simple charactor, place \\ before charactor\n",
    "message: str = 'Piaic \"student\" card\\n father\\'s Name'\n",
    "print(message)\n",
    "massage: str = \"piac 'student' card\\n father's Name\"\n",
    "print(massage)"
   ]
  },
  {
   "cell_type": "code",
   "execution_count": 44,
   "metadata": {},
   "outputs": [
    {
     "name": "stdout",
     "output_type": "stream",
     "text": [
      "PIAIC Student Card\n",
      "Student Name:Farhan Aziz\n",
      "Father_name:Zafar Aziz\n",
      "Education:Software Engineer\n",
      "Age:18\n",
      "City:Karachi\n"
     ]
    }
   ],
   "source": [
    "name: str = \"Farhan Aziz\"\n",
    "father_name: str = \"Zafar Aziz\"\n",
    "education: str = \"Software Engineer\"\n",
    "age: int = 18\n",
    "city: str = \"Karachi\"\n",
    "\n",
    "card: str = \"PIAIC Student Card\\nStudent Name:\"+ name + \"\\nFather_name:\" + father_name + \"\\nEducation:\" + education + \"\\nAge:\" + str(age) + \"\\nCity:\" + city\n",
    "#age variable is intiger thats why we convert it into string using \"str()\" function  called as type casting\n",
    "\n",
    "print(card)"
   ]
  },
  {
   "cell_type": "code",
   "execution_count": 45,
   "metadata": {},
   "outputs": [
    {
     "name": "stdout",
     "output_type": "stream",
     "text": [
      "7\n"
     ]
    }
   ],
   "source": [
    "#\\\\ back slash use for line continue\n",
    "print(2 + \\\n",
    "    2 + \\\n",
    "        3)"
   ]
  },
  {
   "cell_type": "markdown",
   "metadata": {},
   "source": [
    "#Define Multiline String \"\"\" \"\"\", ''' '''"
   ]
  },
  {
   "cell_type": "code",
   "execution_count": 46,
   "metadata": {},
   "outputs": [
    {
     "name": "stdout",
     "output_type": "stream",
     "text": [
      "\n",
      "PIAIC Student Card\n",
      "Name: \n",
      "Father's Name: \n",
      "Education:\n",
      "Age:\n",
      "City:\n",
      "\n",
      "\n"
     ]
    }
   ],
   "source": [
    "name: str = \"Farhan Aziz\"\n",
    "father_name: str = \"Zafar Aziz\"\n",
    "education: str = \"Software Engineer\"\n",
    "age: int = 18\n",
    "city: str = \"Karachi\"\n",
    "\n",
    "card: str = \"\"\"\n",
    "PIAIC Student Card\n",
    "Name: \n",
    "Father's Name: \n",
    "Education:\n",
    "Age:\n",
    "City:\n",
    "\n",
    "\"\"\"\n",
    "print(card)\n"
   ]
  },
  {
   "cell_type": "markdown",
   "metadata": {},
   "source": [
    "#f-string "
   ]
  },
  {
   "cell_type": "code",
   "execution_count": 49,
   "metadata": {},
   "outputs": [
    {
     "name": "stdout",
     "output_type": "stream",
     "text": [
      "\n",
      "PIAIC Student Card\n",
      "Name: Farhan Aziz\n",
      "Father's Name: Zafar Aziz\n",
      "Education: Software Engineer\n",
      "Age: 18\n",
      "City: Karachi\n",
      "\n",
      "Total: 9\n",
      "\n"
     ]
    }
   ],
   "source": [
    "name: str = \"Farhan Aziz\"\n",
    "father_name: str = \"Zafar Aziz\"\n",
    "education: str = \"Software Engineer\"\n",
    "age: int = 18\n",
    "city: str = \"Karachi\"\n",
    "\n",
    "card: str = f\"\"\"\n",
    "PIAIC Student Card\n",
    "Name: {name}\n",
    "Father's Name: {father_name}\n",
    "Education: {education}\n",
    "Age: {age}\n",
    "City: {city}\n",
    "\n",
    "Total: {2 + 3 + 4}\n",
    "\"\"\"\n",
    "print(card)"
   ]
  },
  {
   "cell_type": "markdown",
   "metadata": {},
   "source": [
    "#f-string and jinja style\n"
   ]
  },
  {
   "cell_type": "code",
   "execution_count": 51,
   "metadata": {},
   "outputs": [
    {
     "data": {
      "text/plain": [
       "'\\nfather-name: {{father_name}}\\n'"
      ]
     },
     "execution_count": 51,
     "metadata": {},
     "output_type": "execute_result"
    }
   ],
   "source": [
    "#f-string  mostly use this type\n",
    "f'''\n",
    "name: {name}\n",
    "'''\n",
    "\n",
    "#jinja style\n",
    "#work with html page in browser and using with 2x curly brackets\n",
    "\"\"\"\n",
    "name: {{name}}\n",
    "\"\"\""
   ]
  },
  {
   "cell_type": "code",
   "execution_count": null,
   "metadata": {},
   "outputs": [],
   "source": [
    "#this is old way only know don't use it\n",
    "name: str = \"Farhan Aziz\"\n",
    "father_name: str = \"Zafar Aziz\"\n",
    "education: str = \"Software Engineer\"\n",
    "age: int = 18\n",
    "city: str = \"Karachi\"\n",
    "\n",
    "card: str = f\"\"\"\n",
    "PIAIC Student Card\n",
    "Name: %s\n",
    "Father's Name: %s\n",
    "Education: %s\n",
    "Age: %d\n",
    "City: %s\n",
    "\n",
    "\n",
    "\"\"\" %(name,father_name,education,age)\n",
    "print(card)"
   ]
  },
  {
   "cell_type": "code",
   "execution_count": 1,
   "metadata": {},
   "outputs": [
    {
     "data": {
      "text/plain": [
       "['__add__',\n",
       " '__class__',\n",
       " '__contains__',\n",
       " '__delattr__',\n",
       " '__dir__',\n",
       " '__doc__',\n",
       " '__eq__',\n",
       " '__format__',\n",
       " '__ge__',\n",
       " '__getattribute__',\n",
       " '__getitem__',\n",
       " '__getnewargs__',\n",
       " '__getstate__',\n",
       " '__gt__',\n",
       " '__hash__',\n",
       " '__init__',\n",
       " '__init_subclass__',\n",
       " '__iter__',\n",
       " '__le__',\n",
       " '__len__',\n",
       " '__lt__',\n",
       " '__mod__',\n",
       " '__mul__',\n",
       " '__ne__',\n",
       " '__new__',\n",
       " '__reduce__',\n",
       " '__reduce_ex__',\n",
       " '__repr__',\n",
       " '__rmod__',\n",
       " '__rmul__',\n",
       " '__setattr__',\n",
       " '__sizeof__',\n",
       " '__str__',\n",
       " '__subclasshook__',\n",
       " 'capitalize',\n",
       " 'casefold',\n",
       " 'center',\n",
       " 'count',\n",
       " 'encode',\n",
       " 'endswith',\n",
       " 'expandtabs',\n",
       " 'find',\n",
       " 'format',\n",
       " 'format_map',\n",
       " 'index',\n",
       " 'isalnum',\n",
       " 'isalpha',\n",
       " 'isascii',\n",
       " 'isdecimal',\n",
       " 'isdigit',\n",
       " 'isidentifier',\n",
       " 'islower',\n",
       " 'isnumeric',\n",
       " 'isprintable',\n",
       " 'isspace',\n",
       " 'istitle',\n",
       " 'isupper',\n",
       " 'join',\n",
       " 'ljust',\n",
       " 'lower',\n",
       " 'lstrip',\n",
       " 'maketrans',\n",
       " 'partition',\n",
       " 'removeprefix',\n",
       " 'removesuffix',\n",
       " 'replace',\n",
       " 'rfind',\n",
       " 'rindex',\n",
       " 'rjust',\n",
       " 'rpartition',\n",
       " 'rsplit',\n",
       " 'rstrip',\n",
       " 'split',\n",
       " 'splitlines',\n",
       " 'startswith',\n",
       " 'strip',\n",
       " 'swapcase',\n",
       " 'title',\n",
       " 'translate',\n",
       " 'upper',\n",
       " 'zfill']"
      ]
     },
     "execution_count": 1,
     "metadata": {},
     "output_type": "execute_result"
    }
   ],
   "source": [
    "#check methods of string type\n",
    "dir(str)"
   ]
  },
  {
   "cell_type": "code",
   "execution_count": null,
   "metadata": {},
   "outputs": [],
   "source": [
    "naam: str = \"farhan aziz\"\n",
    "print(naam.capitalize())\n",
    "print(naam.lower())"
   ]
  },
  {
   "cell_type": "code",
   "execution_count": 2,
   "metadata": {},
   "outputs": [
    {
     "data": {
      "text/plain": [
       "'Pakistan value a = 7 and value b = 8'"
      ]
     },
     "execution_count": 2,
     "metadata": {},
     "output_type": "execute_result"
    }
   ],
   "source": [
    "a = 7\n",
    "b = 8 \n",
    "\"Pakistan value a = {} and value b = {}\".format(a,b)"
   ]
  },
  {
   "cell_type": "code",
   "execution_count": 36,
   "metadata": {},
   "outputs": [
    {
     "name": "stdout",
     "output_type": "stream",
     "text": [
      "\n",
      "PIAIC Student Card\n",
      "Name: Zafar Aziz\n",
      "Father's Name: Farhan Aziz\n",
      "Education: Software Engineer\n",
      "Age: Karachi\n",
      "City: 18\n",
      "\n",
      "\n",
      "\n"
     ]
    }
   ],
   "source": [
    "#wrong sequence\n",
    "name: str = \"Farhan Aziz\"\n",
    "father_name: str = \"Zafar Aziz\"\n",
    "education: str = \"Software Engineer\"\n",
    "age: int = 18\n",
    "city: str = \"Karachi\"\n",
    "\n",
    "card: str = \"\"\"\n",
    "PIAIC Student Card\n",
    "Name: {}\n",
    "Father's Name: {}\n",
    "Education: {}\n",
    "Age: {}\n",
    "City: {}\n",
    "\n",
    "\n",
    "\"\"\" .format(father_name,name,education,city,age)\n",
    "#              0          1        2    3    4\n",
    "print(card)"
   ]
  },
  {
   "cell_type": "code",
   "execution_count": 7,
   "metadata": {},
   "outputs": [
    {
     "name": "stdout",
     "output_type": "stream",
     "text": [
      "\n",
      "PIAIC Student Card\n",
      "Name: Farhan Aziz\n",
      "Father's Name: Zafar Aziz\n",
      "Education: Software Engineer\n",
      "Age: 18\n",
      "City: Karachi\n",
      "\n",
      "\n",
      "\n"
     ]
    }
   ],
   "source": [
    "#correct sequence\n",
    "name: str = \"Farhan Aziz\"\n",
    "father_name: str = \"Zafar Aziz\"\n",
    "education: str = \"Software Engineer\"\n",
    "age: int = 18\n",
    "city: str = \"Karachi\"\n",
    "\n",
    "card: str = \"\"\"\n",
    "PIAIC Student Card\n",
    "Name: {1}\n",
    "Father's Name: {0}\n",
    "Education: {2}\n",
    "Age: {4}\n",
    "City: {3}\n",
    "\n",
    "\n",
    "\"\"\" .format(father_name,name,education,city,age)\n",
    "#              0          1        2    3    4\n",
    "print(card)"
   ]
  },
  {
   "cell_type": "code",
   "execution_count": 9,
   "metadata": {},
   "outputs": [
    {
     "name": "stdout",
     "output_type": "stream",
     "text": [
      "\n",
      "PIAIC Student Card\n",
      "Name: Farhan Aziz\n",
      "Father's Name: Zafar Aziz\n",
      "Education: Software Engineer\n",
      "Age: 18\n",
      "City: Karachi\n",
      "\n",
      "\n",
      "\n"
     ]
    }
   ],
   "source": [
    "name: str = \"Farhan Aziz\"\n",
    "father_name: str = \"Zafar Aziz\"\n",
    "education: str = \"Software Engineer\"\n",
    "age: int = 18\n",
    "city: str = \"Karachi\"\n",
    "\n",
    "card: str = \"\"\"\n",
    "PIAIC Student Card\n",
    "Name: {a}\n",
    "Father's Name: {b}\n",
    "Education: {c}\n",
    "Age: {d}\n",
    "City: {e}\n",
    "\n",
    "\n",
    "\"\"\" .format(b=father_name,a=name,c=education,e=city,d=age)\n",
    "#              0          1        2    3    4\n",
    "print(card)"
   ]
  },
  {
   "cell_type": "code",
   "execution_count": 13,
   "metadata": {},
   "outputs": [
    {
     "name": "stdout",
     "output_type": "stream",
     "text": [
      "My name is Farhan Aziz\n",
      "18\n"
     ]
    }
   ],
   "source": [
    "student_code: str = \"\"\" \n",
    "print(\"My name is Farhan Aziz\") \n",
    "a: int = 9\n",
    "b: int = 9\n",
    "print(a + b)\n",
    "\n",
    "\"\"\"\n",
    "exec(student_code)"
   ]
  },
  {
   "cell_type": "markdown",
   "metadata": {},
   "source": [
    "#Explore string methods and attributes"
   ]
  },
  {
   "cell_type": "code",
   "execution_count": 21,
   "metadata": {},
   "outputs": [
    {
     "name": "stdout",
     "output_type": "stream",
     "text": [
      "      Pyarwala Moasam       \n",
      "Pyarwala Moasam       \n",
      "      Pyarwala Moasam\n",
      "Pyarwala Moasam\n"
     ]
    }
   ],
   "source": [
    "wether: str = \"      Pyarwala Moasam       \"\n",
    "print(wether)\n",
    "print(wether.lstrip()) # remove left-side whitespace \"lstrip()\" left-side space removal\n",
    "print(wether.rstrip()) # remove right-side whitspace  \"rstrip()\" right-side space removal\n",
    "print(wether.strip()) # remove all side whitespace  \n",
    "\n",
    "#using strip() method"
   ]
  },
  {
   "cell_type": "code",
   "execution_count": 35,
   "metadata": {},
   "outputs": [
    {
     "name": "stdout",
     "output_type": "stream",
     "text": [
      "Stay with \t Palestine\n",
      "I stand with\n",
      " Palestine\n",
      "Allah Protect th Muslims of Palestine\n"
     ]
    }
   ],
   "source": [
    "#\\n , \\t, \\b\n",
    "message: str = \"Stay with \\t Palestine\"\n",
    "print(message) #  \\t using for extra space\n",
    "\n",
    "message: str = \"I stand with\\n Palestine\"\n",
    "print(message) #  \\n using for new line\n",
    "\n",
    "message: str = \"Allah Protect the\\b Muslims of Palestine\"\n",
    "print(message) #  \\b using for backspace\n",
    "\n"
   ]
  }
 ],
 "metadata": {
  "kernelspec": {
   "display_name": "Python 3",
   "language": "python",
   "name": "python3"
  },
  "language_info": {
   "codemirror_mode": {
    "name": "ipython",
    "version": 3
   },
   "file_extension": ".py",
   "mimetype": "text/x-python",
   "name": "python",
   "nbconvert_exporter": "python",
   "pygments_lexer": "ipython3",
   "version": "3.11.5"
  }
 },
 "nbformat": 4,
 "nbformat_minor": 2
}
