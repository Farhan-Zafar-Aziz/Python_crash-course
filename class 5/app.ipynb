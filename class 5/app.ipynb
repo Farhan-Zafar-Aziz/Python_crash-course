{
 "cells": [
  {
   "cell_type": "markdown",
   "metadata": {},
   "source": [
    "# List\n",
    "\n",
    "* itration operation with loop\n",
    "* apply any operation on elements"
   ]
  },
  {
   "cell_type": "code",
   "execution_count": 1,
   "metadata": {},
   "outputs": [
    {
     "name": "stdout",
     "output_type": "stream",
     "text": [
      "sir zia\n",
      "sir inam\n",
      "sir imran\n"
     ]
    }
   ],
   "source": [
    "# for loop\n",
    "names: list[str] = ['sir zia','sir inam','sir imran']\n",
    "\n",
    "for name in names: # name local variable and names place holder variable\n",
    "    print(name)"
   ]
  },
  {
   "cell_type": "code",
   "execution_count": 2,
   "metadata": {},
   "outputs": [
    {
     "name": "stdout",
     "output_type": "stream",
     "text": [
      "Welcome Dear Teacher Sir Zia\n",
      "Welcome Dear Teacher Sir Inam\n",
      "Welcome Dear Teacher Sir Imran\n"
     ]
    }
   ],
   "source": [
    "for name in names:\n",
    "    print(f'''Welcome Dear Teacher {name.title()}''')"
   ]
  },
  {
   "cell_type": "code",
   "execution_count": 10,
   "metadata": {},
   "outputs": [
    {
     "name": "stdout",
     "output_type": "stream",
     "text": [
      "Welcome Dear Teacher Sir Zia\n",
      "PIAIC Team Member\n",
      "\n",
      "Welcome Dear Teacher Sir Inam\n",
      "PIAIC Team Member\n",
      "\n",
      "Welcome Dear Teacher Sir Imran\n",
      "PIAIC Team Member\n",
      "\n",
      "Pakistan Zinda Bad\n"
     ]
    }
   ],
   "source": [
    "for name in names:\n",
    "    print(f'''Welcome Dear Teacher {name.title()}''')\n",
    "    print(f'''PIAIC Team Member\\n''') # this content will be print with for loop value bcz this msg written in indentation of for loop\n",
    "\n",
    "print('Pakistan Zinda Bad') # this print out due to indentation of for loop   "
   ]
  },
  {
   "cell_type": "code",
   "execution_count": 11,
   "metadata": {},
   "outputs": [
    {
     "name": "stdout",
     "output_type": "stream",
     "text": [
      "Welcome Dear Teacher Sir Imran\n",
      "PIAIC Team Member\n",
      "\n",
      "Welcome Dear Teacher Sir Inam\n",
      "PIAIC Team Member\n",
      "\n",
      "Welcome Dear Teacher Sir Zia\n",
      "PIAIC Team Member\n",
      "\n"
     ]
    }
   ],
   "source": [
    "for name in names[ : :-1]: # like that we can pass any value from list\n",
    "    print(f'''Welcome Dear Teacher {name.title()}''')\n",
    "    print(f'''PIAIC Team Member\\n''')"
   ]
  },
  {
   "cell_type": "code",
   "execution_count": 22,
   "metadata": {},
   "outputs": [
    {
     "name": "stdout",
     "output_type": "stream",
     "text": [
      "('Sir Zia', 123)\n",
      "('Sir Qasim', 321)\n",
      "('Sir Imran', 456)\n"
     ]
    }
   ],
   "source": [
    "data_base: list[tuple[str, int]] = [('Sir Zia', 123),('Sir Qasim', 321),('Sir Imran', 456)]\n",
    "\n",
    "for data in data_base:\n",
    "    print(data)"
   ]
  },
  {
   "cell_type": "code",
   "execution_count": 16,
   "metadata": {},
   "outputs": [],
   "source": [
    "data_base: list[str, str] = [('Sir Zia', '123'),('Sir Qasim', '321'),('Sir Imran', '456')]\n",
    "\n",
    "enter_user: str = input(\"Enter User Name\")\n",
    "enter_password: str = input(\"Enter Password\")\n"
   ]
  },
  {
   "cell_type": "code",
   "execution_count": 20,
   "metadata": {},
   "outputs": [
    {
     "name": "stdout",
     "output_type": "stream",
     "text": [
      "Valid user and password\n"
     ]
    }
   ],
   "source": [
    "data_base: list[tuple[str, int]] = [('Sir Zia', 123),('Sir Qasim', 321),('Sir Imran', 456)]\n",
    "\n",
    "enter_user: str = input(\"Enter User Name\")\n",
    "enter_password: str = input(\"Enter Password\")\n",
    "\n",
    "for data in data_base:\n",
    "    user, password = (data)\n",
    "    if enter_user == user and enter_password == password:\n",
    "        print('Valid user and password')\n",
    "        break\n",
    "else: \n",
    "    ('Invalid user and password')    "
   ]
  },
  {
   "cell_type": "code",
   "execution_count": 21,
   "metadata": {},
   "outputs": [],
   "source": [
    "data_base: list[tuple[str, int]] = [('Sir Zia', 123),('Sir Qasim', 321),('Sir Imran', 456)]\n",
    "\n",
    "enter_user: str = input(\"Enter User Name\")\n",
    "enter_password: str = input(\"Enter Password\")\n",
    "\n",
    "for data in data_base:\n",
    "    user, password = (data)\n",
    "    if enter_user == user and enter_password == password:\n",
    "        print('Valid user and password')\n",
    "        break\n",
    "else: \n",
    "    ('Invalid user and password') "
   ]
  },
  {
   "cell_type": "code",
   "execution_count": 1,
   "metadata": {},
   "outputs": [
    {
     "ename": "IndentationError",
     "evalue": "unexpected indent (1020437516.py, line 2)",
     "output_type": "error",
     "traceback": [
      "\u001b[1;36m  Cell \u001b[1;32mIn[1], line 2\u001b[1;36m\u001b[0m\n\u001b[1;33m    print(name) # generate indent error bcz here you can't use as indentation, indentation use when you apply loops or conditions in variable\u001b[0m\n\u001b[1;37m    ^\u001b[0m\n\u001b[1;31mIndentationError\u001b[0m\u001b[1;31m:\u001b[0m unexpected indent\n"
     ]
    }
   ],
   "source": [
    "name: str = \"Farhan\"\n",
    "      print(name) # generate indent error bcz here you can't use as indentation, indentation use when you apply loops or conditions in variable"
   ]
  },
  {
   "cell_type": "code",
   "execution_count": 2,
   "metadata": {},
   "outputs": [
    {
     "name": "stdout",
     "output_type": "stream",
     "text": [
      "Farhan\n"
     ]
    }
   ],
   "source": [
    "name: str = \"Farhan\"\n",
    "print(name) # correct syntax"
   ]
  },
  {
   "cell_type": "markdown",
   "metadata": {},
   "source": [
    "# Numbers in Loop\n",
    "\n",
    "* range(start,end,step)"
   ]
  },
  {
   "cell_type": "code",
   "execution_count": 3,
   "metadata": {},
   "outputs": [
    {
     "data": {
      "text/plain": [
       "range(0, 10)"
      ]
     },
     "execution_count": 3,
     "metadata": {},
     "output_type": "execute_result"
    }
   ],
   "source": [
    "range(10) # direct function can't working"
   ]
  },
  {
   "cell_type": "code",
   "execution_count": 4,
   "metadata": {},
   "outputs": [
    {
     "data": {
      "text/plain": [
       "[0, 1, 2, 3, 4, 5, 6, 7, 8, 9]"
      ]
     },
     "execution_count": 4,
     "metadata": {},
     "output_type": "execute_result"
    }
   ],
   "source": [
    "list(range(10)) # now it is working"
   ]
  },
  {
   "cell_type": "code",
   "execution_count": 5,
   "metadata": {},
   "outputs": [
    {
     "data": {
      "text/plain": [
       "[0, 1, 2, 3, 4, 5, 6, 7, 8, 9, 10, 11, 12, 13, 14, 15, 16, 17, 18, 19, 20]"
      ]
     },
     "execution_count": 5,
     "metadata": {},
     "output_type": "execute_result"
    }
   ],
   "source": [
    "list(range(0,21))"
   ]
  },
  {
   "cell_type": "code",
   "execution_count": 7,
   "metadata": {},
   "outputs": [
    {
     "data": {
      "text/plain": [
       "[2, 4, 6, 8, 10, 12, 14, 16, 18, 20]"
      ]
     },
     "execution_count": 7,
     "metadata": {},
     "output_type": "execute_result"
    }
   ],
   "source": [
    "list(range(2,21,2))"
   ]
  },
  {
   "cell_type": "code",
   "execution_count": 9,
   "metadata": {},
   "outputs": [
    {
     "name": "stdout",
     "output_type": "stream",
     "text": [
      "2\n",
      "4\n",
      "6\n",
      "8\n",
      "10\n",
      "12\n",
      "14\n",
      "16\n",
      "18\n",
      "20\n"
     ]
    }
   ],
   "source": [
    "for i in range(2,21,2):\n",
    "    print(i)"
   ]
  },
  {
   "cell_type": "code",
   "execution_count": 16,
   "metadata": {},
   "outputs": [
    {
     "name": "stdout",
     "output_type": "stream",
     "text": [
      "2 x 1 = 2\n",
      "2 x 2 = 4\n",
      "2 x 3 = 6\n",
      "2 x 4 = 8\n",
      "2 x 5 = 10\n",
      "2 x 6 = 12\n",
      "2 x 7 = 14\n",
      "2 x 8 = 16\n",
      "2 x 9 = 18\n",
      "2 x 10 = 20\n"
     ]
    }
   ],
   "source": [
    "for n in range(1,11):\n",
    "    print(f\"{2} x {n} = {n*2}\")"
   ]
  },
  {
   "cell_type": "code",
   "execution_count": 19,
   "metadata": {},
   "outputs": [
    {
     "name": "stdout",
     "output_type": "stream",
     "text": [
      "3 x 1 = 3\n",
      "3 x 2 = 6\n",
      "3 x 3 = 9\n",
      "3 x 4 = 12\n",
      "3 x 5 = 15\n",
      "3 x 6 = 18\n",
      "3 x 7 = 21\n",
      "3 x 8 = 24\n",
      "3 x 9 = 27\n",
      "3 x 10 = 30\n"
     ]
    }
   ],
   "source": [
    "for a in range(1,11):\n",
    "    print(f\"{3} x {a} = {a*3}\")"
   ]
  },
  {
   "cell_type": "code",
   "execution_count": 20,
   "metadata": {},
   "outputs": [
    {
     "name": "stdout",
     "output_type": "stream",
     "text": [
      "10 x 1 = 10\n",
      "10 x 2 = 20\n",
      "10 x 3 = 30\n",
      "10 x 4 = 40\n",
      "10 x 5 = 50\n",
      "10 x 6 = 60\n",
      "10 x 7 = 70\n",
      "10 x 8 = 80\n",
      "10 x 9 = 90\n",
      "10 x 10 = 100\n"
     ]
    }
   ],
   "source": [
    "for b in range(1,11):\n",
    "    print(f\"{10} x {b} = {b*10}\")"
   ]
  },
  {
   "cell_type": "code",
   "execution_count": 22,
   "metadata": {},
   "outputs": [
    {
     "name": "stdout",
     "output_type": "stream",
     "text": [
      "[1, 4, 9, 16, 25, 36, 49, 64, 81, 100]\n"
     ]
    }
   ],
   "source": [
    "# old way of comprehensive list\n",
    "squares: list[int] = []\n",
    "for value in range(1,11):\n",
    "    square = value **2\n",
    "    squares.append(square)\n",
    "print(squares)"
   ]
  },
  {
   "cell_type": "markdown",
   "metadata": {},
   "source": [
    "# List Comprehensive \n",
    "'''\n",
    " for items in item_list:\n",
    "        loop_body\n",
    "        '''\n",
    "\n",
    "### comprehensive style\n",
    "'''\n",
    "     [loop_body for items in item_list]\n",
    "        \n",
    "       '''"
   ]
  },
  {
   "cell_type": "code",
   "execution_count": 25,
   "metadata": {},
   "outputs": [
    {
     "name": "stdout",
     "output_type": "stream",
     "text": [
      "1\n",
      "4\n",
      "9\n",
      "16\n",
      "25\n",
      "36\n",
      "49\n",
      "64\n",
      "81\n",
      "100\n"
     ]
    }
   ],
   "source": [
    "# old way\n",
    "for i in range(1,11):\n",
    "\n",
    "     print(i**2)"
   ]
  },
  {
   "cell_type": "code",
   "execution_count": 26,
   "metadata": {},
   "outputs": [
    {
     "data": {
      "text/plain": [
       "[1, 4, 9, 16, 25, 36, 49, 64, 81, 100]"
      ]
     },
     "execution_count": 26,
     "metadata": {},
     "output_type": "execute_result"
    }
   ],
   "source": [
    "# latest way in one line\n",
    "[i**2  for i in range(1,11)] # ok\n",
    " "
   ]
  },
  {
   "cell_type": "code",
   "execution_count": 30,
   "metadata": {},
   "outputs": [
    {
     "name": "stdout",
     "output_type": "stream",
     "text": [
      "9\n",
      "0\n",
      "45\n",
      "[1, 2, 3, 4, 5, 6, 7, 8, 9, 0]\n"
     ]
    }
   ],
   "source": [
    "digits: list = [1,2,3,4,5,6,7,8,9,0]\n",
    "print(max(digits))\n",
    "print(min(digits))\n",
    "print(sum(digits))\n",
    "print(digits)"
   ]
  },
  {
   "cell_type": "markdown",
   "metadata": {},
   "source": [
    "# Tuples in Python\n",
    "- A tuple is a collection data type that is immutable. It can store multiple values of different types and it's ordered, meaning the order"
   ]
  },
  {
   "cell_type": "code",
   "execution_count": 36,
   "metadata": {},
   "outputs": [
    {
     "name": "stdout",
     "output_type": "stream",
     "text": [
      "A\n",
      "('A', 'B')\n"
     ]
    }
   ],
   "source": [
    "names: tuple[str] = ('A',\"B\",'C')\n",
    "print(names[0])\n",
    "print(names[0:2]) # slicing perform"
   ]
  },
  {
   "cell_type": "code",
   "execution_count": 37,
   "metadata": {},
   "outputs": [
    {
     "ename": "TypeError",
     "evalue": "'tuple' object does not support item assignment",
     "output_type": "error",
     "traceback": [
      "\u001b[1;31m---------------------------------------------------------------------------\u001b[0m",
      "\u001b[1;31mTypeError\u001b[0m                                 Traceback (most recent call last)",
      "\u001b[1;32me:\\Python crash course\\class 5\\app.ipynb Cell 28\u001b[0m line \u001b[0;36m3\n\u001b[0;32m      <a href='vscode-notebook-cell:/e%3A/Python%20crash%20course/class%205/app.ipynb#X36sZmlsZQ%3D%3D?line=0'>1</a>\u001b[0m names: \u001b[39mtuple\u001b[39m[\u001b[39mstr\u001b[39m] \u001b[39m=\u001b[39m (\u001b[39m\"\u001b[39m\u001b[39mA\u001b[39m\u001b[39m\"\u001b[39m,\u001b[39m'\u001b[39m\u001b[39mB\u001b[39m\u001b[39m'\u001b[39m,\u001b[39m\"\u001b[39m\u001b[39mC\u001b[39m\u001b[39m\"\u001b[39m)\n\u001b[1;32m----> <a href='vscode-notebook-cell:/e%3A/Python%20crash%20course/class%205/app.ipynb#X36sZmlsZQ%3D%3D?line=2'>3</a>\u001b[0m names[\u001b[39m0\u001b[39m] \u001b[39m=\u001b[39m \u001b[39m\"\u001b[39m\u001b[39mPak\u001b[39m\u001b[39m\"\u001b[39m\n\u001b[0;32m      <a href='vscode-notebook-cell:/e%3A/Python%20crash%20course/class%205/app.ipynb#X36sZmlsZQ%3D%3D?line=3'>4</a>\u001b[0m \u001b[39mprint\u001b[39m(names)\n",
      "\u001b[1;31mTypeError\u001b[0m: 'tuple' object does not support item assignment"
     ]
    }
   ],
   "source": [
    "names: tuple[str] = (\"A\",'B',\"C\")\n",
    "\n",
    "names[0] = \"Pak\" # tuple value is not changeable its constant\n",
    "print(names)"
   ]
  },
  {
   "cell_type": "code",
   "execution_count": 43,
   "metadata": {},
   "outputs": [
    {
     "name": "stdout",
     "output_type": "stream",
     "text": [
      "('A', [1, 2, 3], True)\n"
     ]
    }
   ],
   "source": [
    "from typing import Any\n",
    "data: tuple[Any] = ('A',[1,2,3],True)\n",
    "\n",
    "print(data)"
   ]
  },
  {
   "cell_type": "code",
   "execution_count": 42,
   "metadata": {},
   "outputs": [
    {
     "ename": "TypeError",
     "evalue": "'tuple' object does not support item assignment",
     "output_type": "error",
     "traceback": [
      "\u001b[1;31m---------------------------------------------------------------------------\u001b[0m",
      "\u001b[1;31mTypeError\u001b[0m                                 Traceback (most recent call last)",
      "\u001b[1;32me:\\Python crash course\\class 5\\app.ipynb Cell 30\u001b[0m line \u001b[0;36m3\n\u001b[0;32m      <a href='vscode-notebook-cell:/e%3A/Python%20crash%20course/class%205/app.ipynb#X41sZmlsZQ%3D%3D?line=0'>1</a>\u001b[0m data: \u001b[39mtuple\u001b[39m[Any] \u001b[39m=\u001b[39m (\u001b[39m'\u001b[39m\u001b[39mA\u001b[39m\u001b[39m'\u001b[39m,[\u001b[39m1\u001b[39m,\u001b[39m2\u001b[39m,\u001b[39m3\u001b[39m],\u001b[39mTrue\u001b[39;00m)\n\u001b[1;32m----> <a href='vscode-notebook-cell:/e%3A/Python%20crash%20course/class%205/app.ipynb#X41sZmlsZQ%3D%3D?line=2'>3</a>\u001b[0m data[\u001b[39m0\u001b[39m] \u001b[39m=\u001b[39m \u001b[39m'\u001b[39m\u001b[39mB\u001b[39m\u001b[39m'\u001b[39m\n\u001b[0;32m      <a href='vscode-notebook-cell:/e%3A/Python%20crash%20course/class%205/app.ipynb#X41sZmlsZQ%3D%3D?line=4'>5</a>\u001b[0m \u001b[39mprint\u001b[39m(data)\n",
      "\u001b[1;31mTypeError\u001b[0m: 'tuple' object does not support item assignment"
     ]
    }
   ],
   "source": [
    "data: tuple[Any] = ('A',[1,2,3],True)\n",
    "\n",
    "data[0] = 'B' \n",
    "#TypeError: 'tuple' object does not support item assignment\n",
    "\n",
    "print(data)"
   ]
  },
  {
   "cell_type": "code",
   "execution_count": 47,
   "metadata": {},
   "outputs": [
    {
     "name": "stdout",
     "output_type": "stream",
     "text": [
      "[1, 2, 3]\n",
      "('A', [1, 2, 3, 4], True)\n"
     ]
    }
   ],
   "source": [
    "data: tuple[Any] = ('A',[1,2,3],True)\n",
    "\n",
    "print(data[1])\n",
    "data[1].append(4)\n",
    "print(data) # value update in object of in tuple tuple will be same Ok\n"
   ]
  }
 ],
 "metadata": {
  "kernelspec": {
   "display_name": "base",
   "language": "python",
   "name": "python3"
  },
  "language_info": {
   "codemirror_mode": {
    "name": "ipython",
    "version": 3
   },
   "file_extension": ".py",
   "mimetype": "text/x-python",
   "name": "python",
   "nbconvert_exporter": "python",
   "pygments_lexer": "ipython3",
   "version": "3.11.5"
  }
 },
 "nbformat": 4,
 "nbformat_minor": 2
}
